{
 "cells": [
  {
   "cell_type": "code",
   "execution_count": 1,
   "metadata": {},
   "outputs": [],
   "source": [
    "import pyigl as igl\n",
    "from homology import *\n",
    "from iglhelpers import *\n",
    "import meshplot as mp"
   ]
  },
  {
   "cell_type": "code",
   "execution_count": 2,
   "metadata": {},
   "outputs": [],
   "source": [
    "def faceToEdges(f):\n",
    "    signs = []\n",
    "\n",
    "    e1 = (f[0], f[1])\n",
    "    if e1[0] > e1[1]:\n",
    "        e1 = (e1[1], e1[0])\n",
    "        signs.append(-1)\n",
    "    else:\n",
    "        signs.append(1)\n",
    "\n",
    "    e2 = (f[1], f[2])\n",
    "    if e2[0] > e2[1]:\n",
    "        e2 = (e2[1], e2[0])\n",
    "        signs.append(-1)\n",
    "    else:\n",
    "        signs.append(1)\n",
    "\n",
    "    e3 = (f[2], f[0])\n",
    "    if e3[0] > e3[1]:\n",
    "        e3 = (e3[1], e3[0])\n",
    "        signs.append(-1)\n",
    "    else:\n",
    "        signs.append(1)\n",
    "\n",
    "    edges = [e1, e2, e3]\n",
    "    return edges, signs\n",
    "\n",
    "\n",
    "class Mesh:\n",
    "    def __init__(self, verts, faces):\n",
    "        self.vertsMat = verts\n",
    "        self.facesMat = faces\n",
    "\n",
    "        self.faceSet = set()\n",
    "        self.edgeIdMap = {}\n",
    "\n",
    "        numE = 0\n",
    "        for f in faces:\n",
    "            self.faceSet.add(tuple(f.tolist()))\n",
    "            edges, signs = faceToEdges(f)\n",
    "            for e in edges:\n",
    "                if e not in self.edgeIdMap:\n",
    "                    self.edgeIdMap[e] = numE\n",
    "                    numE +=1\n",
    "\n",
    "        self.nV = verts.shape[0]\n",
    "        self.nE = len(self.edgeIdMap)\n",
    "        self.nF = len(self.faceSet)\n",
    "\n",
    "    def getD2(self):\n",
    "        d2 = np.zeros((self.nE, self.nF))\n",
    "        for iF, f in enumerate(self.facesMat.tolist()):\n",
    "            edges, signs = faceToEdges(f)\n",
    "            for e, sign in zip(edges, signs):\n",
    "                eId = self.edgeIdMap[e]\n",
    "                d2[eId, iF] = sign\n",
    "\n",
    "        return d2\n",
    "\n",
    "    def getD1(self):\n",
    "        d1 = np.zeros((self.nV, self.nE))\n",
    "        for e, eId in self.edgeIdMap.items():\n",
    "            v1 = e[0]\n",
    "            v2 = e[1]\n",
    "            d1[v1, eId] = -1\n",
    "            d1[v2, eId] = 1\n",
    "        return d1"
   ]
  },
  {
   "cell_type": "code",
   "execution_count": 7,
   "metadata": {},
   "outputs": [
    {
     "data": {
      "application/vnd.jupyter.widget-view+json": {
       "model_id": "774d940e38534f6fa260b75b5b6e318b",
       "version_major": 2,
       "version_minor": 0
      },
      "text/plain": [
       "Renderer(camera=PerspectiveCamera(children=(DirectionalLight(color='white', intensity=0.6, position=(1.0, 0.0,…"
      ]
     },
     "metadata": {},
     "output_type": "display_data"
    }
   ],
   "source": [
    "V = igl.eigen.MatrixXd()\n",
    "F = igl.eigen.MatrixXi()\n",
    "igl.readOBJ('Circle.obj', V, F)\n",
    "# igl.readOBJ('TorusSimplified.obj', V, F)\n",
    "\n",
    "verts = e2p(V)\n",
    "faces = e2p(F)\n",
    "\n",
    "mp.plot(verts, faces, return_plot=True)"
   ]
  },
  {
   "cell_type": "code",
   "execution_count": 8,
   "metadata": {},
   "outputs": [
    {
     "name": "stdout",
     "output_type": "stream",
     "text": [
      "{(0, 1): 0, (0, 2): 1, (1, 2): 2, (4, 5): 3, (2, 5): 4, (2, 4): 5, (1, 3): 6, (1, 5): 7, (3, 5): 8}\n",
      "d2:\n",
      " [[-1.  0.  0.]\n",
      " [ 1.  0.  0.]\n",
      " [-1.  0.  0.]\n",
      " [ 0.  1.  0.]\n",
      " [ 0. -1.  0.]\n",
      " [ 0.  1.  0.]\n",
      " [ 0.  0. -1.]\n",
      " [ 0.  0.  1.]\n",
      " [ 0.  0. -1.]]\n",
      "d1:\n",
      " [[-1. -1.  0.  0.  0.  0.  0.  0.  0.]\n",
      " [ 1.  0. -1.  0.  0.  0. -1. -1.  0.]\n",
      " [ 0.  1.  1.  0. -1. -1.  0.  0.  0.]\n",
      " [ 0.  0.  0.  0.  0.  0.  1.  0. -1.]\n",
      " [ 0.  0.  0. -1.  0.  1.  0.  0.  0.]\n",
      " [ 0.  0.  0.  1.  1.  0.  0.  1.  1.]]\n"
     ]
    }
   ],
   "source": [
    "mesh = Mesh(verts, faces)\n",
    "\n",
    "print(mesh.edgeIdMap)\n",
    "\n",
    "d2 = mesh.getD2()\n",
    "print('d2:\\n', d2)\n",
    "\n",
    "d1 = mesh.getD1()\n",
    "print('d1:\\n', d1)\n",
    "\n",
    "A = d1.astype(numpy.float64)\n",
    "B = d2.astype(numpy.float64)\n",
    "\n",
    "A, B, Q, QInv = simultaneousReduceWithQ(A, B)"
   ]
  },
  {
   "cell_type": "code",
   "execution_count": 9,
   "metadata": {},
   "outputs": [],
   "source": [
    "# get generator for the homology group\n",
    "z = numpy.zeros(A.shape[0])\n",
    "basisKer = [i for i in range(A.shape[1]) if numpy.all(A[:, i] == z)]\n",
    "\n",
    "firstZeroCol = -1\n",
    "for i in range(A.shape[1])[::-1]:\n",
    "    if  numpy.all(A[:, i] == z):\n",
    "        firstZeroCol = i\n",
    "    else:\n",
    "        break\n",
    "\n",
    "# z = numpy.zeros(B.shape[1])\n",
    "# basisIm = [i for i in range(B.shape[0]) if numpy.any(B[i, :] != z)]\n",
    "basisIm = []\n",
    "for i in range(B.shape[0] - firstZeroCol):\n",
    "    if i + firstZeroCol >= B.shape[0] or i >= B.shape[1]:\n",
    "        break\n",
    "\n",
    "    if B[i+firstZeroCol, i]:\n",
    "        basisIm.append(i+firstZeroCol)\n",
    "\n",
    "\n",
    "basisH = numpy.setdiff1d(basisKer, basisIm)\n",
    "\n",
    "idToEMap = {eId:e for e, eId in mesh.edgeIdMap.items()}"
   ]
  },
  {
   "cell_type": "code",
   "execution_count": 12,
   "metadata": {},
   "outputs": [
    {
     "data": {
      "application/vnd.jupyter.widget-view+json": {
       "model_id": "bad59ffd1a524960bdbaed630ca94839",
       "version_major": 2,
       "version_minor": 0
      },
      "text/plain": [
       "Renderer(camera=PerspectiveCamera(children=(DirectionalLight(color='white', intensity=0.6, position=(1.0, 0.0,…"
      ]
     },
     "metadata": {},
     "output_type": "display_data"
    },
    {
     "name": "stdout",
     "output_type": "stream",
     "text": [
      "Generator for homology group:\n",
      "[ 1. -1.  0.  0. -1.  0.  1.  0.  1.]\n",
      " (0, 1)\n",
      "- (0, 2)\n",
      "- (2, 5)\n",
      " (1, 3)\n",
      " (3, 5)\n"
     ]
    }
   ],
   "source": [
    "p=mp.plot(verts, faces, return_plot=True)\n",
    "print(\"Generator for homology group:\")\n",
    "for i in basisH:\n",
    "    print(Q[:, i])\n",
    "    eIds = np.where(Q[:, i])[0]\n",
    "    for eId in eIds:\n",
    "        print(\"\" if Q[eId, i] > 0 else \"-\",  idToEMap[eId])\n",
    "\n",
    "        p.add_lines(verts[idToEMap[eId][0], :], verts[idToEMap[eId][1],:], shading={\"line_color\": \"red\", \"line_width\": \"5\"});"
   ]
  },
  {
   "cell_type": "code",
   "execution_count": null,
   "metadata": {},
   "outputs": [],
   "source": []
  }
 ],
 "metadata": {
  "kernelspec": {
   "display_name": "Python 3",
   "language": "python",
   "name": "python3"
  },
  "language_info": {
   "codemirror_mode": {
    "name": "ipython",
    "version": 3
   },
   "file_extension": ".py",
   "mimetype": "text/x-python",
   "name": "python",
   "nbconvert_exporter": "python",
   "pygments_lexer": "ipython3",
   "version": "3.6.9"
  }
 },
 "nbformat": 4,
 "nbformat_minor": 2
}
